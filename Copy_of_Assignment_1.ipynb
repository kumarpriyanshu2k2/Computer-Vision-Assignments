{
  "nbformat": 4,
  "nbformat_minor": 0,
  "metadata": {
    "colab": {
      "provenance": [],
      "toc_visible": true
    },
    "kernelspec": {
      "name": "python3",
      "display_name": "Python 3"
    },
    "language_info": {
      "name": "python"
    }
  },
  "cells": [
    {
      "cell_type": "markdown",
      "source": [
        "<center>\n",
        "<h1><strong> Computer Vision assignment </strong></h1>\n",
        "</center>"
      ],
      "metadata": {
        "id": "5gnVmnCuRVO6"
      }
    },
    {
      "cell_type": "markdown",
      "source": [
        "**This assignment will challenge your understanding of basic python programming paradigm and evaluate your intution of problem solving**\n",
        "\n",
        "- Make sure all the implementations are general and should work for any test case that we use\n",
        "\n",
        "\n"
      ],
      "metadata": {
        "id": "0zSwRgknRiQu"
      }
    },
    {
      "cell_type": "markdown",
      "source": [
        "## **Instructions :**"
      ],
      "metadata": {
        "id": "IRUoYr2u2Eeg"
      }
    },
    {
      "cell_type": "markdown",
      "source": [
        "\n",
        "- Make a copy of this Colab notebook (else any changes you make wont be saved)\n",
        "- Feel free to add more code blocks in between questions if you feel you need it\n"
      ],
      "metadata": {
        "id": "si5j_ygayB6p"
      }
    },
    {
      "cell_type": "markdown",
      "source": [
        "---\n",
        "## **Part 1: Python**"
      ],
      "metadata": {
        "id": "Zi29DVxm2Wek"
      }
    },
    {
      "cell_type": "markdown",
      "source": [
        "\n",
        "\n",
        "#### `Q1) Check if a given string is a palindrome`"
      ],
      "metadata": {
        "id": "PEUy0L1abA7z"
      }
    },
    {
      "cell_type": "code",
      "source": [
        "x=input()\n",
        "if(x==x[::-1]):\n",
        "  print (\"Yes\")\n",
        "else:\n",
        "    print (\"No\")\n",
        "\n"
      ],
      "metadata": {
        "id": "d2TGFIWM7w8Y",
        "colab": {
          "base_uri": "https://localhost:8080/"
        },
        "outputId": "7b6b597d-2e1b-470e-bf7f-0793271d2c76"
      },
      "execution_count": null,
      "outputs": [
        {
          "output_type": "stream",
          "name": "stdout",
          "text": [
            "sus\n",
            "Yes\n"
          ]
        }
      ]
    },
    {
      "cell_type": "markdown",
      "source": [
        "#### `Q2) Write a program to check if the two input strings are an anagram of eachother or not ` "
      ],
      "metadata": {
        "id": "zbU37-UUbWsU"
      }
    },
    {
      "cell_type": "code",
      "source": [
        "x,y=input().split()\n",
        "if(sorted(x)== sorted(y)):\n",
        "        print(\"The strings are anagrams.\")\n",
        "else:\n",
        "        print(\"The strings aren't anagrams.\")        \n",
        "         \n"
      ],
      "metadata": {
        "id": "XRXZVbNjbUZ5",
        "colab": {
          "base_uri": "https://localhost:8080/"
        },
        "outputId": "4ba7b6d5-3828-46ef-ce3e-f5add01a4db8"
      },
      "execution_count": null,
      "outputs": [
        {
          "output_type": "stream",
          "name": "stdout",
          "text": [
            "silent listen\n",
            "The strings are anagrams.\n"
          ]
        }
      ]
    },
    {
      "cell_type": "markdown",
      "source": [
        "#### `Q3) print all the duplicate letters in the string \"Electronics and Robotics club\"`"
      ],
      "metadata": {
        "id": "wpUP6XANbXh4"
      }
    },
    {
      "cell_type": "code",
      "source": [
        "s=\"Electronics and Robotics club\"\n",
        "d=[]\n",
        "\n"
      ],
      "metadata": {
        "id": "xsDdleNzbVI-",
        "colab": {
          "base_uri": "https://localhost:8080/"
        },
        "outputId": "b40618a5-14f5-49c5-d2f9-ec51a326cde8"
      },
      "execution_count": null,
      "outputs": [
        {
          "output_type": "stream",
          "name": "stdout",
          "text": [
            "<built-in method count of str object at 0x7f8bd2b01b70>\n"
          ]
        }
      ]
    },
    {
      "cell_type": "markdown",
      "source": [
        "#### `Q4) Given below is a list of dictionaries, create a new sorted list containing unique values from the dictionary elements.`\n",
        "\n",
        "> <em>dictionary_syntax = {key : value}</em>\n",
        "\n",
        "> <em>Essentially, create a unique list of all the values</em>"
      ],
      "metadata": {
        "id": "2yeBy0QCbbeE"
      }
    },
    {
      "cell_type": "code",
      "source": [
        "#Implement your solution on the given list of dictionaries, assume that this is a dummy test case - however your solution should work for all lists of dictionaries\n",
        "my_list=[\n",
        "     {\"first\":\"1\"}, \n",
        "     {\"second\": \"2\"}, \n",
        "     {\"third\": \"1\"}, \n",
        "     {\"four\": \"5\"}, \n",
        "     {\"five\":\"5\"}, \n",
        "     {\"six\":\"9\"},\n",
        "     {\"seven\":\"7\"}\n",
        "    ]\n",
        "# write your code here\n",
        "\n",
        "#expected solution [1,2,5,7,9]"
      ],
      "metadata": {
        "id": "H-JbYS7GbaMW"
      },
      "execution_count": null,
      "outputs": []
    }
  ]
}