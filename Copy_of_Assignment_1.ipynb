{
  "nbformat": 4,
  "nbformat_minor": 0,
  "metadata": {
    "colab": {
      "provenance": [],
      "toc_visible": true,
      "include_colab_link": true
    },
    "kernelspec": {
      "name": "python3",
      "display_name": "Python 3"
    },
    "language_info": {
      "name": "python"
    }
  },
  "cells": [
    {
      "cell_type": "markdown",
      "metadata": {
        "id": "view-in-github",
        "colab_type": "text"
      },
      "source": [
        "<a href=\"https://colab.research.google.com/github/RoboAM13/Computer-Vision-Assignments/blob/Atul-M/Copy_of_Assignment_1.ipynb\" target=\"_parent\"><img src=\"https://colab.research.google.com/assets/colab-badge.svg\" alt=\"Open In Colab\"/></a>"
      ]
    },
    {
      "cell_type": "markdown",
      "source": [
        "<center>\n",
        "<h1><strong> Computer Vision assignment </strong></h1>\n",
        "</center>"
      ],
      "metadata": {
        "id": "5gnVmnCuRVO6"
      }
    },
    {
      "cell_type": "markdown",
      "source": [
        "**This assignment will challenge your understanding of basic python programming paradigm and evaluate your intution of problem solving**\n",
        "\n",
        "- Make sure all the implementations are general and should work for any test case that we use\n",
        "\n",
        "\n"
      ],
      "metadata": {
        "id": "0zSwRgknRiQu"
      }
    },
    {
      "cell_type": "markdown",
      "source": [
        "## **Instructions :**"
      ],
      "metadata": {
        "id": "IRUoYr2u2Eeg"
      }
    },
    {
      "cell_type": "markdown",
      "source": [
        "\n",
        "- Make a copy of this Colab notebook (else any changes you make wont be saved)\n",
        "- Feel free to add more code blocks in between questions if you feel you need it\n"
      ],
      "metadata": {
        "id": "si5j_ygayB6p"
      }
    },
    {
      "cell_type": "markdown",
      "source": [
        "---\n",
        "## **Part 1: Python**"
      ],
      "metadata": {
        "id": "Zi29DVxm2Wek"
      }
    },
    {
      "cell_type": "markdown",
      "source": [
        "\n",
        "\n",
        "#### `Q1) Check if a given string is a palindrome`"
      ],
      "metadata": {
        "id": "PEUy0L1abA7z"
      }
    },
    {
      "cell_type": "code",
      "source": [
        "x=input()\n",
        "if x==x[::-1]:\n",
        "  print(\"String is palindrome\")\n",
        "else:\n",
        "  print(\"String is not palindrome\")\n"
      ],
      "metadata": {
        "id": "d2TGFIWM7w8Y"
      },
      "execution_count": null,
      "outputs": []
    },
    {
      "cell_type": "markdown",
      "source": [
        "#### `Q2) Write a program to check if the two input strings are an anagram of eachother or not ` "
      ],
      "metadata": {
        "id": "zbU37-UUbWsU"
      }
    },
    {
      "cell_type": "code",
      "source": [
        "x,y=input().split()\n",
        "a,b=list(x),list(y)\n",
        "a.sort()\n",
        "b.sort()\n",
        "if a==b:\n",
        "  print(\"Strings are anagram\")\n",
        "else:\n",
        "  \n",
        "  print(\"Strings arent anagram\")\n",
        "\n",
        "\n"
      ],
      "metadata": {
        "id": "XRXZVbNjbUZ5"
      },
      "execution_count": null,
      "outputs": []
    },
    {
      "cell_type": "markdown",
      "source": [
        "#### `Q3) print all the duplicate letters in the string \"Electronics and Robotics club\"`"
      ],
      "metadata": {
        "id": "wpUP6XANbXh4"
      }
    },
    {
      "cell_type": "code",
      "source": [
        "x=\"Electronics and Robotics club\"\n",
        "lis=[]\n",
        "lis2=[]\n",
        "for i in x.lower():\n",
        "  if i==\" \":\n",
        "    pass\n",
        "  elif i not in lis:\n",
        "    lis.append(i)\n",
        "  else:\n",
        "    print(i,end='')"
      ],
      "metadata": {
        "id": "xsDdleNzbVI-",
        "colab": {
          "base_uri": "https://localhost:8080/"
        },
        "outputId": "964e8cbd-2370-4b44-987f-a466339c76b0"
      },
      "execution_count": 38,
      "outputs": [
        {
          "output_type": "stream",
          "name": "stdout",
          "text": [
            "ecnrooticsclb"
          ]
        }
      ]
    },
    {
      "cell_type": "markdown",
      "source": [
        "#### `Q4) Given below is a list of dictionaries, create a new sorted list containing unique values from the dictionary elements.`\n",
        "\n",
        "> <em>dictionary_syntax = {key : value}</em>\n",
        "\n",
        "> <em>Essentially, create a unique list of all the values</em>"
      ],
      "metadata": {
        "id": "2yeBy0QCbbeE"
      }
    },
    {
      "cell_type": "code",
      "source": [
        "#Implement your solution on the given list of dictionaries, assume that this is a dummy test case - however your solution should work for all lists of dictionaries\n",
        "my_list=[\n",
        "     {\"first\":\"1\"}, \n",
        "     {\"second\": \"2\"}, \n",
        "     {\"third\": \"1\"}, \n",
        "     {\"four\": \"5\"}, \n",
        "     {\"five\":\"5\"}, \n",
        "     {\"six\":\"9\"},\n",
        "     {\"seven\":\"7\"}\n",
        "    ]\n",
        "new_list=[]\n",
        "for i in my_list:\n",
        "    for j in i:\n",
        "        if (i[j]) not in new_list:\n",
        "            new_list.append((i[j]))\n",
        "new_list.sort()\n",
        "print(new_list)\n",
        "#expected solution [1,2,5,7,9]"
      ],
      "metadata": {
        "id": "H-JbYS7GbaMW",
        "colab": {
          "base_uri": "https://localhost:8080/"
        },
        "outputId": "a6094751-4ffc-418a-d6d2-ea80c0240793"
      },
      "execution_count": null,
      "outputs": [
        {
          "output_type": "stream",
          "name": "stdout",
          "text": [
            "['1', '2', '5', '7', '9']\n"
          ]
        }
      ]
    }
  ]
}