{
  "nbformat": 4,
  "nbformat_minor": 0,
  "metadata": {
    "colab": {
      "provenance": []
    },
    "kernelspec": {
      "name": "python3",
      "display_name": "Python 3"
    },
    "language_info": {
      "name": "python"
    }
  },
  "cells": [
    {
      "cell_type": "markdown",
      "source": [
        "<center>\n",
        "<h1><strong> Computer Vision assignment </strong></h1>\n",
        "</center>"
      ],
      "metadata": {
        "id": "5gnVmnCuRVO6"
      }
    },
    {
      "cell_type": "markdown",
      "source": [
        "**This assignment will challenge your understanding of basic python programming paradigm and evaluate your intution of problem solving**\n",
        "\n",
        "- Make sure all the implementations are general and should work for any test case that we use\n",
        "\n",
        "\n"
      ],
      "metadata": {
        "id": "0zSwRgknRiQu"
      }
    },
    {
      "cell_type": "markdown",
      "source": [
        "## **Instructions :**"
      ],
      "metadata": {
        "id": "IRUoYr2u2Eeg"
      }
    },
    {
      "cell_type": "markdown",
      "source": [
        "\n",
        "- Make a copy of this Colab notebook (else any changes you make wont be saved)\n",
        "- Feel free to add more code blocks in between questions if you feel you need it\n"
      ],
      "metadata": {
        "id": "si5j_ygayB6p"
      }
    },
    {
      "cell_type": "markdown",
      "source": [
        "---\n",
        "## **Part 1: Python**"
      ],
      "metadata": {
        "id": "Zi29DVxm2Wek"
      }
    },
    {
      "cell_type": "markdown",
      "source": [
        "\n",
        "\n",
        "#### `Q1) Check if a given string is a palindrome`"
      ],
      "metadata": {
        "id": "PEUy0L1abA7z"
      }
    },
    {
      "cell_type": "code",
      "source": [
        "#write your code here\n",
        "x=input(\"Enter the word:\")\n",
        "x1=x[::-1]  \n",
        "if x==x1:\n",
        "  print(\"Yes\")\n",
        "else:\n",
        "  print(\"No\")\n"
      ],
      "metadata": {
        "id": "d2TGFIWM7w8Y",
        "colab": {
          "base_uri": "https://localhost:8080/"
        },
        "outputId": "eacac291-576f-4fb0-a458-6fad17b46a30"
      },
      "execution_count": 47,
      "outputs": [
        {
          "output_type": "stream",
          "name": "stdout",
          "text": [
            "Enter the word:nayan\n",
            "Yes\n"
          ]
        }
      ]
    },
    {
      "cell_type": "markdown",
      "source": [
        "#### `Q2) Write a program to check if the two input strings are an anagram of eachother or not ` "
      ],
      "metadata": {
        "id": "zbU37-UUbWsU"
      }
    },
    {
      "cell_type": "code",
      "source": [
        "#write your code here\n",
        "x,y=input(\"Enter the two words:\").split()\n",
        "if sorted(x)==sorted(y):\n",
        " print('Yes')\n",
        "else:\n",
        " print(\"No\")  \n",
        "\n",
        "\n"
      ],
      "metadata": {
        "id": "XRXZVbNjbUZ5",
        "colab": {
          "base_uri": "https://localhost:8080/"
        },
        "outputId": "2e22986c-033c-4655-b601-82b1e6e4ddc0"
      },
      "execution_count": 52,
      "outputs": [
        {
          "output_type": "stream",
          "name": "stdout",
          "text": [
            "Enter the two words:race care\n",
            "Yes\n"
          ]
        }
      ]
    },
    {
      "cell_type": "markdown",
      "source": [
        "#### `Q3) print all the duplicate letters in the string \"Electronics and Robotics club\"`"
      ],
      "metadata": {
        "id": "wpUP6XANbXh4"
      }
    },
    {
      "cell_type": "code",
      "source": [
        "#write your code here\n",
        "string='Electronics and Robotics club'\n",
        "string1=string.replace(\" \",\"\")\n",
        "duplicate=[]\n",
        "for i in string1:\n",
        "  if string1.count(i)>1 and i not in duplicate:\n",
        "    duplicate.append(i)\n",
        "print('The duplicate letters are:',duplicate)    \n"
      ],
      "metadata": {
        "id": "xsDdleNzbVI-",
        "colab": {
          "base_uri": "https://localhost:8080/"
        },
        "outputId": "797f9dfd-9f94-42ff-cef7-d27b78301d9b"
      },
      "execution_count": 57,
      "outputs": [
        {
          "output_type": "stream",
          "name": "stdout",
          "text": [
            "The duplicate letters are: ['l', 'c', 't', 'o', 'n', 'i', 's', 'b']\n"
          ]
        }
      ]
    },
    {
      "cell_type": "markdown",
      "source": [
        "#### `Q4) Given below is a list of dictionaries, create a new sorted list containing unique values from the dictionary elements.`\n",
        "\n",
        "> <em>dictionary_syntax = {key : value}</em>\n",
        "\n",
        "> <em>Essentially, create a unique list of all the values</em>"
      ],
      "metadata": {
        "id": "2yeBy0QCbbeE"
      }
    },
    {
      "cell_type": "code",
      "source": [
        "#Implement your solution on the given list of dictionaries, assume that this is a dummy test case - however your solution should work for all lists of dictionaries\n",
        "my_list=[\n",
        "     {\"first\":\"1\"}, \n",
        "     {\"second\": \"2\"}, \n",
        "     {\"third\": \"1\"}, \n",
        "     {\"four\": \"5\"}, \n",
        "     {\"five\":\"5\"}, \n",
        "     {\"six\":\"9\"},\n",
        "     {\"seven\":\"7\"}\n",
        "    ]\n",
        "# write your code here\n",
        "unique=[]\n",
        "for i in range(0,len(my_list)):\n",
        " z=my_list[i]\n",
        " for value in z.values():\n",
        "  if value not in unique:\n",
        "    unique.append(value)\n",
        "unique.sort()    \n",
        "print(unique)    \n",
        "\n",
        "#expected solution [1,2,5,7,9]\n",
        "\n",
        "\n"
      ],
      "metadata": {
        "id": "H-JbYS7GbaMW",
        "colab": {
          "base_uri": "https://localhost:8080/"
        },
        "outputId": "3da51507-9716-4696-c5ab-49a70f0036be"
      },
      "execution_count": 51,
      "outputs": [
        {
          "output_type": "stream",
          "name": "stdout",
          "text": [
            "['1', '2', '5', '7', '9']\n"
          ]
        }
      ]
    }
  ]
}