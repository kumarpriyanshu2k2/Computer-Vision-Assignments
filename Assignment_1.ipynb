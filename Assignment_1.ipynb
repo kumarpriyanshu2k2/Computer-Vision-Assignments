str1=input('enter string1\n')
val1=len(str1)
str2=input('enter string2\n')
val2=len(str2)
list1=[]

while val1>0:
    list1.append(str1[val1-1])
    val1-=1
list1.sort()
print(list1)

list2=[]
while val2>0:
    list2.append(str2[val2-1])
    val2-=1
 
list2.sort()
print(list2)
if(list1==list2):
    print('anagram')   
else:
    print('no')  

str=input('enter string')
val=len(str)
strnew=''
while val>0:
    strnew+=str[val-1:val]
    val-=1
if (strnew==str):
    print('palindrome')
else:
    print('not palindrome')   
