{
  "nbformat": 4,
  "nbformat_minor": 0,
  "metadata": {
    "colab": {
      "provenance": [],
      "toc_visible": true
    },
    "kernelspec": {
      "name": "python3",
      "display_name": "Python 3"
    },
    "language_info": {
      "name": "python"
    }
  },
  "cells": [
    {
      "cell_type": "markdown",
      "source": [
        "<center>\n",
        "<h1><strong> Computer Vision assignment 2 </strong></h1>\n",
        "</center>"
      ],
      "metadata": {
        "id": "5gnVmnCuRVO6"
      }
    },
    {
      "cell_type": "markdown",
      "source": [
        "**This assignment will challenge your understanding of basic python programming paradigm and evaluate your intution of numpy **\n",
        "\n",
        "- Make sure all the implementations are general and should work for any test case that we use\n",
        "- Numpy link: https://www.youtube.com/watch?v=QUT1VHiLmmI&t=958s \n",
        "- the above link will provide a general introduction to numpy - if additional information is needed refer to the documentation \n",
        "\n"
      ],
      "metadata": {
        "id": "0zSwRgknRiQu"
      }
    },
    {
      "cell_type": "markdown",
      "source": [
        "## **Instructions :**"
      ],
      "metadata": {
        "id": "IRUoYr2u2Eeg"
      }
    },
    {
      "cell_type": "markdown",
      "source": [
        "\n",
        "- Make a copy of this Colab notebook (else any changes you make wont be saved)\n",
        "- Feel free to add more code blocks in between questions if you feel you need it\n",
        "- Submit the link of your Colab notebook on this [Link](https://forms.gle/ncuP2Xr5JhE6Hxcx9) once you are done with the assignment (Make sure to give edit access to BITS Pilani University)"
      ],
      "metadata": {
        "id": "si5j_ygayB6p"
      }
    },
    {
      "cell_type": "markdown",
      "source": [
        "---\n",
        "## **Numpy**"
      ],
      "metadata": {
        "id": "aObvH5Q-2co2"
      }
    },
    {
      "cell_type": "code",
      "source": [
        "import numpy as np\n",
        "import string"
      ],
      "metadata": {
        "id": "ekt88Ug9o1DN"
      },
      "execution_count": 31,
      "outputs": []
    },
    {
      "cell_type": "markdown",
      "source": [
        "\n",
        "#### `Q1) create a 1-D numpy array with elements from 0 to 10`"
      ],
      "metadata": {
        "id": "0Fka-WJeeAiW"
      }
    },
    {
      "cell_type": "code",
      "source": [
        "x=np.arange(11)\n",
        "print('Array with elements from 0 to 10:',x)"
      ],
      "metadata": {
        "id": "aR13iSUpfGu_",
        "colab": {
          "base_uri": "https://localhost:8080/"
        },
        "outputId": "235992e3-5fad-4d77-df55-7c67e32666fe"
      },
      "execution_count": 32,
      "outputs": [
        {
          "output_type": "stream",
          "name": "stdout",
          "text": [
            "Array with elements from 0 to 10: [ 0  1  2  3  4  5  6  7  8  9 10]\n"
          ]
        }
      ]
    },
    {
      "cell_type": "markdown",
      "source": [
        "\n",
        "#### `Q2) Create a 2D numpy array of shape = (7,8)`"
      ],
      "metadata": {
        "id": "B5EghpLPfJw8"
      }
    },
    {
      "cell_type": "code",
      "source": [
        "shape=(7,8)\n",
        "a=np.ones(shape)\n",
        "print(a)"
      ],
      "metadata": {
        "colab": {
          "base_uri": "https://localhost:8080/"
        },
        "id": "FjelEaYhdzbY",
        "outputId": "6548e474-ced1-415b-9cc7-695c979a5a17"
      },
      "execution_count": 44,
      "outputs": [
        {
          "output_type": "stream",
          "name": "stdout",
          "text": [
            "[[1. 1. 1. 1. 1. 1. 1. 1.]\n",
            " [1. 1. 1. 1. 1. 1. 1. 1.]\n",
            " [1. 1. 1. 1. 1. 1. 1. 1.]\n",
            " [1. 1. 1. 1. 1. 1. 1. 1.]\n",
            " [1. 1. 1. 1. 1. 1. 1. 1.]\n",
            " [1. 1. 1. 1. 1. 1. 1. 1.]\n",
            " [1. 1. 1. 1. 1. 1. 1. 1.]]\n"
          ]
        }
      ]
    },
    {
      "cell_type": "markdown",
      "source": [
        "#### `Q3) Create a 1-D numpy array of size 10 with random integer values ranging from 40 to 69. Once created print the sorted array.`"
      ],
      "metadata": {
        "id": "RuqhCa7ZfMGu"
      }
    },
    {
      "cell_type": "code",
      "source": [
        "a=np.random.randint(40,70,10)\n",
        "a1=np.sort(a)\n",
        "print(a1)"
      ],
      "metadata": {
        "id": "TDf64tzffINq",
        "colab": {
          "base_uri": "https://localhost:8080/"
        },
        "outputId": "351ff005-783c-449c-da23-0c3a6a1ae7dc"
      },
      "execution_count": 69,
      "outputs": [
        {
          "output_type": "stream",
          "name": "stdout",
          "text": [
            "[40 48 51 59 60 61 64 64 67 69]\n"
          ]
        }
      ]
    },
    {
      "cell_type": "markdown",
      "source": [
        "#### `Q4) Find indices of non-zero elements in [1,5,0,0,53,78,4,0,21,79,0,4,5,17]`"
      ],
      "metadata": {
        "id": "ODXvYSy7fM8D"
      }
    },
    {
      "cell_type": "code",
      "source": [
        "a=[1,5,0,0,53,78,4,0,21,79,0,4,5,17]\n",
        "k=np.nonzero(a)\n",
        "print(k)"
      ],
      "metadata": {
        "id": "YYhCBaN7fIIo",
        "colab": {
          "base_uri": "https://localhost:8080/"
        },
        "outputId": "16ba8691-2699-468e-e55c-1781898cd1ba"
      },
      "execution_count": 61,
      "outputs": [
        {
          "output_type": "stream",
          "name": "stdout",
          "text": [
            "(array([ 0,  1,  4,  5,  6,  8,  9, 11, 12, 13]),)\n"
          ]
        }
      ]
    },
    {
      "cell_type": "markdown",
      "source": [
        "\n",
        "#### `Q5) Create a random vector and replce the maximum element by 10`"
      ],
      "metadata": {
        "id": "KZLuX9VffNYT"
      }
    },
    {
      "cell_type": "code",
      "source": [
        "x=np.random.random(2)\n",
        "print(\"Original Vector:\",x)\n",
        "x1=x.max()\n",
        "x[x==x1]=10\n",
        "print(\"Vector after replacing maximum element by 10:\",x)"
      ],
      "metadata": {
        "id": "vaxjm68ifIA7",
        "colab": {
          "base_uri": "https://localhost:8080/"
        },
        "outputId": "d8a3a671-7054-46e8-e9fb-de0605024379"
      },
      "execution_count": 64,
      "outputs": [
        {
          "output_type": "stream",
          "name": "stdout",
          "text": [
            "Original Vector: [0.54881394 0.87658711]\n",
            "Vector after replacing maximum element by 10: [ 0.54881394 10.        ]\n"
          ]
        }
      ]
    }
  ]
}